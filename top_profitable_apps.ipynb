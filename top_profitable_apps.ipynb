{
 "cells": [
  {
   "cell_type": "markdown",
   "id": "98a129f5",
   "metadata": {},
   "source": [
    "# Top Profitable Apps from the Google Play and Apple Store\n",
    "\n",
    "This project will dive into the user data for both apps in the Google Play Store and the Apple Store. We will be analysing which apps have the most amount of user interaction. \n",
    "\n",
    "All of the apps that we will analyze are free to play apps, so all of our revenue comes from the ads we serve. Discovering what apps are gaining the most attraction would allow us to focus development and advertisement efforts that align with those types of apps."
   ]
  },
  {
   "cell_type": "markdown",
   "id": "0f52634b",
   "metadata": {},
   "source": [
    "# Opening the Data Files\n",
    "The data we will be working with was obtained from from kaggle.com, working with this found data set saves time against sourcing our own data.\n",
    "\n",
    "[The Google Play data set](https://www.kaggle.com/lava18/google-play-store-apps) Has about ten thousand apps that are available on android. This data set can be directly downloaded [here.](https://dq-content.s3.amazonaws.com/350/googleplaystore.csv)\n",
    "\n",
    "[The Apple iOS Store data set](https://www.kaggle.com/ramamet4/app-store-apple-data-set-10k-apps) has about seven thousand IOS Apps from the Apple iOS App Store and can be downloaded directly [here.](https://dq-content.s3.amazonaws.com/350/AppleStore.csv)\n"
   ]
  },
  {
   "cell_type": "code",
   "execution_count": 1,
   "id": "2051257e",
   "metadata": {},
   "outputs": [],
   "source": [
    "def explore_data(dataset, start, end,\n",
    "                rows_and_columns=False):\n",
    "    dataset_slice = dataset[start:end]\n",
    "    for row in dataset_slice:\n",
    "        print(row)\n",
    "        print('\\n') #adds new empty line after each row\n",
    "        \n",
    "    if rows_and_columns:\n",
    "        print('Number of rows:', len(dataset))\n",
    "        print('Number of columns:', len(dataset[0]))\n",
    "            \n",
    "from csv import reader          \n",
    "#Apple Store Data\n",
    "apple_file = open('AppleStore.csv')\n",
    "apple_list = list(reader(apple_file))\n",
    "apple_header = apple_list[0]\n",
    "apple_list = apple_list[1:]\n",
    "\n",
    "#Google Store Data\n",
    "google_file = open('googleplaystore.csv')\n",
    "google_list = list(reader(google_file))\n",
    "google_header = google_list[0]\n",
    "google_list = google_list[1:]"
   ]
  },
  {
   "cell_type": "markdown",
   "id": "b062a8d0",
   "metadata": {},
   "source": [
    "# The Data at First Glance\n",
    "We need to get information on the data we are working with before we can start to clean it up. The function 'explore_data' above will take a list as an argument, as well as start and stop points to take just a section of the entire list, as well as print out the total number of rows in the list, and the columns in the first row of the selected section."
   ]
  },
  {
   "cell_type": "code",
   "execution_count": 2,
   "id": "1bdd902d",
   "metadata": {
    "scrolled": true
   },
   "outputs": [
    {
     "name": "stdout",
     "output_type": "stream",
     "text": [
      "['App', 'Category', 'Rating', 'Reviews', 'Size', 'Installs', 'Type', 'Price', 'Content Rating', 'Genres', 'Last Updated', 'Current Ver', 'Android Ver']\n",
      "\n",
      "\n",
      "['Photo Editor & Candy Camera & Grid & ScrapBook', 'ART_AND_DESIGN', '4.1', '159', '19M', '10,000+', 'Free', '0', 'Everyone', 'Art & Design', 'January 7, 2018', '1.0.0', '4.0.3 and up']\n",
      "\n",
      "\n",
      "['Coloring book moana', 'ART_AND_DESIGN', '3.9', '967', '14M', '500,000+', 'Free', '0', 'Everyone', 'Art & Design;Pretend Play', 'January 15, 2018', '2.0.0', '4.0.3 and up']\n",
      "\n",
      "\n",
      "Number of rows: 10841\n",
      "Number of columns: 13\n"
     ]
    }
   ],
   "source": [
    "print(google_header)\n",
    "print('\\n')\n",
    "explore_data(google_list, 0, 2, True)"
   ]
  },
  {
   "cell_type": "markdown",
   "id": "b9875b8a",
   "metadata": {},
   "source": [
    "Above we can see that the header row for the Google Apps data as well as a couple of the first rows. The total number of rows is 10841, and the number of colums in each row is 13."
   ]
  },
  {
   "cell_type": "code",
   "execution_count": 3,
   "id": "be666c1d",
   "metadata": {},
   "outputs": [
    {
     "name": "stdout",
     "output_type": "stream",
     "text": [
      "['id', 'track_name', 'size_bytes', 'currency', 'price', 'rating_count_tot', 'rating_count_ver', 'user_rating', 'user_rating_ver', 'ver', 'cont_rating', 'prime_genre', 'sup_devices.num', 'ipadSc_urls.num', 'lang.num', 'vpp_lic']\n",
      "\n",
      "\n",
      "['284882215', 'Facebook', '389879808', 'USD', '0.0', '2974676', '212', '3.5', '3.5', '95.0', '4+', 'Social Networking', '37', '1', '29', '1']\n",
      "\n",
      "\n",
      "['389801252', 'Instagram', '113954816', 'USD', '0.0', '2161558', '1289', '4.5', '4.0', '10.23', '12+', 'Photo & Video', '37', '0', '29', '1']\n",
      "\n",
      "\n",
      "Number of rows: 7197\n",
      "Number of columns: 16\n"
     ]
    }
   ],
   "source": [
    "print(apple_header)\n",
    "print('\\n')\n",
    "explore_data(apple_list, 0, 2, True)"
   ]
  },
  {
   "cell_type": "markdown",
   "id": "4b8dc5f3",
   "metadata": {},
   "source": [
    "Above we can see that the Apple iOS apps data header as well as a couple of the first rows. The total number of rows in this data set is 7197 rows, and the number of columns in each row is 16."
   ]
  },
  {
   "cell_type": "markdown",
   "id": "a6fb2b8a",
   "metadata": {},
   "source": [
    "# Cleaning the Data\n",
    "On the disussion formum where we downloaded the data for the Google Apps, a user has pointed out an error in the data set [here.](https://www.kaggle.com/lava18/google-play-store-apps/discussion/66015) The users in this thread indecated that there is a row that is missing a column, so let's see the row they are talking about."
   ]
  },
  {
   "cell_type": "code",
   "execution_count": 4,
   "id": "d6fd7744",
   "metadata": {},
   "outputs": [
    {
     "name": "stdout",
     "output_type": "stream",
     "text": [
      "['Photo Editor & Candy Camera & Grid & ScrapBook', 'ART_AND_DESIGN', '4.1', '159', '19M', '10,000+', 'Free', '0', 'Everyone', 'Art & Design', 'January 7, 2018', '1.0.0', '4.0.3 and up']\n",
      "['Life Made WI-Fi Touchscreen Photo Frame', '1.9', '19', '3.0M', '1,000+', 'Free', '0', 'Everyone', '', 'February 11, 2018', '1.0.19', '4.0 and up']\n",
      "Columns in header: 13\n",
      "Columns in error row: 12\n"
     ]
    }
   ],
   "source": [
    "print(google_list[0])\n",
    "print(google_list[10472])\n",
    "print(f'Columns in header: {len(google_list[0])}')\n",
    "print(f'Columns in error row: {len(google_list[10472])}')"
   ]
  },
  {
   "cell_type": "markdown",
   "id": "71d24099",
   "metadata": {},
   "source": [
    "The row we are looking at has a missing 'Category' column, so this row should be deleted."
   ]
  },
  {
   "cell_type": "code",
   "execution_count": 5,
   "id": "a8950cff",
   "metadata": {},
   "outputs": [],
   "source": [
    "del google_list[10472]"
   ]
  },
  {
   "cell_type": "markdown",
   "id": "b7181a01",
   "metadata": {},
   "source": [
    "# Remove Duplicate Data\n",
    "Considering there is one error, there might be more. One thing to look for first is to see if there are duplicates in the data set."
   ]
  },
  {
   "cell_type": "code",
   "execution_count": 6,
   "id": "e74887f4",
   "metadata": {},
   "outputs": [
    {
     "name": "stdout",
     "output_type": "stream",
     "text": [
      "['Instagram', 'SOCIAL', '4.5', '66577313', 'Varies with device', '1,000,000,000+', 'Free', '0', 'Teen', 'Social', 'July 31, 2018', 'Varies with device', 'Varies with device']\n",
      "['Instagram', 'SOCIAL', '4.5', '66577446', 'Varies with device', '1,000,000,000+', 'Free', '0', 'Teen', 'Social', 'July 31, 2018', 'Varies with device', 'Varies with device']\n",
      "['Instagram', 'SOCIAL', '4.5', '66577313', 'Varies with device', '1,000,000,000+', 'Free', '0', 'Teen', 'Social', 'July 31, 2018', 'Varies with device', 'Varies with device']\n",
      "['Instagram', 'SOCIAL', '4.5', '66509917', 'Varies with device', '1,000,000,000+', 'Free', '0', 'Teen', 'Social', 'July 31, 2018', 'Varies with device', 'Varies with device']\n"
     ]
    }
   ],
   "source": [
    "for app in google_list:\n",
    "    if app[0] == 'Instagram':\n",
    "        print(app)"
   ]
  },
  {
   "cell_type": "code",
   "execution_count": 7,
   "id": "d81d3b30",
   "metadata": {},
   "outputs": [
    {
     "name": "stdout",
     "output_type": "stream",
     "text": [
      "['Facebook', 'SOCIAL', '4.1', '78158306', 'Varies with device', '1,000,000,000+', 'Free', '0', 'Teen', 'Social', 'August 3, 2018', 'Varies with device', 'Varies with device']\n",
      "['Facebook', 'SOCIAL', '4.1', '78128208', 'Varies with device', '1,000,000,000+', 'Free', '0', 'Teen', 'Social', 'August 3, 2018', 'Varies with device', 'Varies with device']\n"
     ]
    }
   ],
   "source": [
    "for app in google_list:\n",
    "    if app[0] == 'Facebook':\n",
    "        print(app)"
   ]
  },
  {
   "cell_type": "markdown",
   "id": "23a03758",
   "metadata": {},
   "source": [
    "The Google Apps store data set has duplicate entries for both the Instagram and Facebook app. There are likely to be more so we should sift through all of the data to create a set of all the apps that are referenced more than once.\n",
    "\n",
    "If you look closely at the duplicates, the reviews are the only changing value. We can determine that the row with the most number of reveiws is the most up to date data, and the rest of the data should be removed from the dataset."
   ]
  },
  {
   "cell_type": "code",
   "execution_count": 8,
   "id": "5ed2de4d",
   "metadata": {},
   "outputs": [
    {
     "name": "stdout",
     "output_type": "stream",
     "text": [
      "Number of duplicate apps: 1181\n"
     ]
    }
   ],
   "source": [
    "duplicate_apps = []\n",
    "unique_apps = []\n",
    "\n",
    "for app in google_list:\n",
    "    if app[0] in unique_apps:\n",
    "        duplicate_apps.append(app[0])\n",
    "    else:\n",
    "        unique_apps.append(app[0])\n",
    "        \n",
    "print(f'Number of duplicate apps: {len(duplicate_apps)}')"
   ]
  },
  {
   "cell_type": "markdown",
   "id": "557ddbb2",
   "metadata": {},
   "source": [
    "There are a total of 1181 duplicate apps, we can use this number to check after we have removed the duplicate apps to determine if we have the expected amount left. Now we need to make a clean list with all the up to date unique values for each app in the app store. First we need a list of all the apps with thier most recent user rating scores.\n",
    "\n",
    "To do this we will use a dictioinary where each unique value will have the app name as the key, and the ratings as the value. If the app is not already in the dictionary then it will be added along with it's respective rating value. If the app has already been added, the higher rating value will be the one that will be the final value in the dictionary."
   ]
  },
  {
   "cell_type": "code",
   "execution_count": 9,
   "id": "f0c5c53d",
   "metadata": {},
   "outputs": [
    {
     "name": "stdout",
     "output_type": "stream",
     "text": [
      "Expected length: 9659\n",
      "Actual length: 9659\n"
     ]
    }
   ],
   "source": [
    "max_reviews = {}\n",
    "\n",
    "for app in google_list:\n",
    "    name = app[0]\n",
    "    n_reviews = float(app[3])\n",
    "    \n",
    "    if name in max_reviews and max_reviews[name] < n_reviews:\n",
    "        max_reviews[name] = n_reviews\n",
    "        \n",
    "    elif name not in max_reviews:\n",
    "        max_reviews[name] = n_reviews\n",
    "        \n",
    "print(f'Expected length: {len(google_list) - 1181}')\n",
    "print(f'Actual length: {len(max_reviews)}')"
   ]
  },
  {
   "cell_type": "markdown",
   "id": "fcadceaa",
   "metadata": {},
   "source": [
    "Now that we confirmed that the dictionary contains all the values we believe to have duplicates, we can start the process of removing the duplicates with outdated data."
   ]
  },
  {
   "cell_type": "code",
   "execution_count": 10,
   "id": "4355bbd4",
   "metadata": {},
   "outputs": [
    {
     "name": "stdout",
     "output_type": "stream",
     "text": [
      "['Photo Editor & Candy Camera & Grid & ScrapBook', 'ART_AND_DESIGN', '4.1', '159', '19M', '10,000+', 'Free', '0', 'Everyone', 'Art & Design', 'January 7, 2018', '1.0.0', '4.0.3 and up']\n",
      "\n",
      "\n",
      "['U Launcher Lite – FREE Live Cool Themes, Hide Apps', 'ART_AND_DESIGN', '4.7', '87510', '8.7M', '5,000,000+', 'Free', '0', 'Everyone', 'Art & Design', 'August 1, 2018', '1.2.4', '4.0.3 and up']\n",
      "\n",
      "\n",
      "['Sketch - Draw & Paint', 'ART_AND_DESIGN', '4.5', '215644', '25M', '50,000,000+', 'Free', '0', 'Teen', 'Art & Design', 'June 8, 2018', 'Varies with device', '4.2 and up']\n",
      "\n",
      "\n",
      "Number of rows: 9659\n",
      "Number of columns: 13\n"
     ]
    }
   ],
   "source": [
    "google_list_clean = []\n",
    "already_added = []\n",
    "\n",
    "for app in google_list:\n",
    "    name = app[0]\n",
    "    n_reviews = float(app[3])\n",
    "    \n",
    "    if (max_reviews[name] == n_reviews) and (name not in already_added):\n",
    "        google_list_clean.append(app)\n",
    "        already_added.append(name)\n",
    "        \n",
    "explore_data(google_list_clean, 0, 3, True)"
   ]
  },
  {
   "cell_type": "markdown",
   "id": "3ce54b11",
   "metadata": {},
   "source": [
    "9659 rows left is the expected amount of rows we should have after removing the duplicates, so we can assume all the values in the dataset are now unique values."
   ]
  },
  {
   "cell_type": "markdown",
   "id": "82b31240",
   "metadata": {},
   "source": [
    "# Remove Non-English Apps"
   ]
  },
  {
   "cell_type": "code",
   "execution_count": 11,
   "id": "22284e19",
   "metadata": {},
   "outputs": [
    {
     "name": "stdout",
     "output_type": "stream",
     "text": [
      "中国語 AQリスニング\n",
      "لعبة تقدر تربح DZ\n",
      "\n",
      "\n",
      "爱奇艺PPS -《欢乐颂2》电视剧热播\n",
      "【脱出ゲーム】絶対に最後までプレイしないで 〜謎解き＆ブロックパズル〜\n"
     ]
    }
   ],
   "source": [
    "print(google_list_clean[4412][0])\n",
    "print(google_list_clean[7940][0])\n",
    "print('\\n')\n",
    "print(apple_list[813][1])\n",
    "print(apple_list[6731][1])"
   ]
  },
  {
   "cell_type": "markdown",
   "id": "17d6cee9",
   "metadata": {},
   "source": [
    "There are rows in both of the datasets that contain non-English apps which we are not concerned about, so we should remove them."
   ]
  },
  {
   "cell_type": "code",
   "execution_count": 12,
   "id": "32bc971a",
   "metadata": {},
   "outputs": [
    {
     "name": "stdout",
     "output_type": "stream",
     "text": [
      "True\n",
      "False\n",
      "True\n",
      "True\n"
     ]
    }
   ],
   "source": [
    "def english_or_not(string):\n",
    "    non_ascii = 0\n",
    "    \n",
    "    for character in string:\n",
    "        if ord(character) > 127:\n",
    "            non_ascii += 1\n",
    "            \n",
    "    if non_ascii > 3:\n",
    "        return False\n",
    "    else:\n",
    "        return True        \n",
    "        \n",
    "print(english_or_not('Instagram'))\n",
    "print(english_or_not('爱奇艺PPS -《欢乐颂2》电视剧热播'))\n",
    "print(english_or_not('Docs To Go™ Free Office Suite'))\n",
    "print(english_or_not('Instachat 😜'))"
   ]
  },
  {
   "cell_type": "markdown",
   "id": "e57c1ed6",
   "metadata": {},
   "source": [
    "The function above determines if a string has more than three non ascii characters. Waiting for three non ascii characters reduces the chance of flagging an English app as a non-English app if it so happend to have a special character or emoji.\n",
    "\n",
    "Below we will create two English only data sets for both the Google Apps and the Apple iOS Apps:"
   ]
  },
  {
   "cell_type": "code",
   "execution_count": 13,
   "id": "bb07ad33",
   "metadata": {},
   "outputs": [
    {
     "name": "stdout",
     "output_type": "stream",
     "text": [
      "['Photo Editor & Candy Camera & Grid & ScrapBook', 'ART_AND_DESIGN', '4.1', '159', '19M', '10,000+', 'Free', '0', 'Everyone', 'Art & Design', 'January 7, 2018', '1.0.0', '4.0.3 and up']\n",
      "\n",
      "\n",
      "['U Launcher Lite – FREE Live Cool Themes, Hide Apps', 'ART_AND_DESIGN', '4.7', '87510', '8.7M', '5,000,000+', 'Free', '0', 'Everyone', 'Art & Design', 'August 1, 2018', '1.2.4', '4.0.3 and up']\n",
      "\n",
      "\n",
      "['Sketch - Draw & Paint', 'ART_AND_DESIGN', '4.5', '215644', '25M', '50,000,000+', 'Free', '0', 'Teen', 'Art & Design', 'June 8, 2018', 'Varies with device', '4.2 and up']\n",
      "\n",
      "\n",
      "Number of rows: 9614\n",
      "Number of columns: 13\n",
      "\n",
      "\n",
      "['284882215', 'Facebook', '389879808', 'USD', '0.0', '2974676', '212', '3.5', '3.5', '95.0', '4+', 'Social Networking', '37', '1', '29', '1']\n",
      "\n",
      "\n",
      "['389801252', 'Instagram', '113954816', 'USD', '0.0', '2161558', '1289', '4.5', '4.0', '10.23', '12+', 'Photo & Video', '37', '0', '29', '1']\n",
      "\n",
      "\n",
      "['529479190', 'Clash of Clans', '116476928', 'USD', '0.0', '2130805', '579', '4.5', '4.5', '9.24.12', '9+', 'Games', '38', '5', '18', '1']\n",
      "\n",
      "\n",
      "Number of rows: 6183\n",
      "Number of columns: 16\n"
     ]
    }
   ],
   "source": [
    "google_english = []\n",
    "apple_english = []\n",
    "\n",
    "for app in google_list_clean:\n",
    "    name = app[0]\n",
    "    if english_or_not(name):\n",
    "        google_english.append(app)\n",
    "        \n",
    "for app in apple_list:\n",
    "    name = app[1]\n",
    "    if english_or_not(name):\n",
    "        apple_english.append(app)\n",
    "        \n",
    "explore_data(google_english, 0, 3, True)\n",
    "print('\\n')\n",
    "explore_data(apple_english, 0, 3, True)"
   ]
  },
  {
   "cell_type": "markdown",
   "id": "108b6869",
   "metadata": {},
   "source": [
    "After filtering out only the English apps for both data sets, we are left with 9614 apps in the Google Apps data set. In the Apple iOS data set we are left with 6183 apps."
   ]
  },
  {
   "cell_type": "markdown",
   "id": "57b6722a",
   "metadata": {},
   "source": [
    "# Focusing on Free To Play Apps\n",
    "The apps that we are developing are free to play apps, so to focus our attention on these apps we need to filter out all of the paid apps. Once we are left with only free to play apps in both data sets we can start to do more data analysis."
   ]
  },
  {
   "cell_type": "code",
   "execution_count": 14,
   "id": "cbf45c28",
   "metadata": {},
   "outputs": [
    {
     "name": "stdout",
     "output_type": "stream",
     "text": [
      "['Photo Editor & Candy Camera & Grid & ScrapBook', 'ART_AND_DESIGN', '4.1', '159', '19M', '10,000+', 'Free', '0', 'Everyone', 'Art & Design', 'January 7, 2018', '1.0.0', '4.0.3 and up']\n",
      "\n",
      "\n",
      "['U Launcher Lite – FREE Live Cool Themes, Hide Apps', 'ART_AND_DESIGN', '4.7', '87510', '8.7M', '5,000,000+', 'Free', '0', 'Everyone', 'Art & Design', 'August 1, 2018', '1.2.4', '4.0.3 and up']\n",
      "\n",
      "\n",
      "['Sketch - Draw & Paint', 'ART_AND_DESIGN', '4.5', '215644', '25M', '50,000,000+', 'Free', '0', 'Teen', 'Art & Design', 'June 8, 2018', 'Varies with device', '4.2 and up']\n",
      "\n",
      "\n",
      "Number of rows: 8863\n",
      "Number of columns: 13\n",
      "['284882215', 'Facebook', '389879808', 'USD', '0.0', '2974676', '212', '3.5', '3.5', '95.0', '4+', 'Social Networking', '37', '1', '29', '1']\n",
      "\n",
      "\n",
      "['389801252', 'Instagram', '113954816', 'USD', '0.0', '2161558', '1289', '4.5', '4.0', '10.23', '12+', 'Photo & Video', '37', '0', '29', '1']\n",
      "\n",
      "\n",
      "['529479190', 'Clash of Clans', '116476928', 'USD', '0.0', '2130805', '579', '4.5', '4.5', '9.24.12', '9+', 'Games', '38', '5', '18', '1']\n",
      "\n",
      "\n",
      "Number of rows: 3222\n",
      "Number of columns: 16\n"
     ]
    }
   ],
   "source": [
    "google_free = []\n",
    "apple_free = []\n",
    "\n",
    "for app in google_english:\n",
    "    price = app[6]\n",
    "    if price == 'Free':\n",
    "        google_free.append(app)\n",
    "        \n",
    "for app in apple_english:\n",
    "    price = app[4]\n",
    "    if price == '0.0':\n",
    "        apple_free.append(app)\n",
    "        \n",
    "explore_data(google_free, 0, 3, True)\n",
    "explore_data(apple_free, 0, 3, True)"
   ]
  },
  {
   "cell_type": "markdown",
   "id": "75f85aad",
   "metadata": {},
   "source": [
    "After finding only the free apps in each data set, we are left with 8863 Google apps and 3222 Apple iOS Apps for the analysis.\n",
    "\n",
    "We want to find apps that are profitable in both the Google Play store and the Apple iOS App store. When we find an app that is profitable in both markets, we will make a minimal version of the app to add to the Google Play store. If the app has a good response from users we will develop it further. If the app is profitable in six months we will post an iOS version of the app.\n",
    "\n",
    "# Most Common Genres\n",
    "\n",
    "To find the most popular genres of apps in each app store, we will first create a frequency table for the each genre. Using the prime_genre column for the Apple store and the Genres and Category columns of the Google Play store we will be able to see the most common types of apps."
   ]
  },
  {
   "cell_type": "code",
   "execution_count": 15,
   "id": "bcc9cfd5",
   "metadata": {},
   "outputs": [],
   "source": [
    "def freq_table(dataset, index):\n",
    "    list_dict = {}\n",
    "    total_app = len(dataset)\n",
    "    for app in dataset:\n",
    "        if app[index] in list_dict:\n",
    "            list_dict[app[index]] += 1\n",
    "        else:\n",
    "            list_dict[app[index]] = 1\n",
    "            \n",
    "    for genre in list_dict:\n",
    "        percentage = (list_dict[genre] / total_app) * 100\n",
    "        list_dict[genre] = percentage\n",
    "\n",
    "    return list_dict\n",
    "\n",
    "def display_table(dataset, index):\n",
    "    table = freq_table(dataset, index)\n",
    "    table_display = []\n",
    "    for key in table:\n",
    "        key_val_as_tuple = (table[key], key)\n",
    "        table_display.append(key_val_as_tuple)\n",
    "        \n",
    "    table_sorted = sorted(table_display, reverse = True)\n",
    "    for entry in table_sorted:\n",
    "        print(entry[1], ':', entry[0])"
   ]
  },
  {
   "cell_type": "markdown",
   "id": "e79cd957",
   "metadata": {},
   "source": [
    "Now that the functions to create the frequency table are setup we can start to examine the data in the prime_genre column of the Apple iOS app store data."
   ]
  },
  {
   "cell_type": "code",
   "execution_count": 16,
   "id": "ef7e45cf",
   "metadata": {},
   "outputs": [
    {
     "name": "stdout",
     "output_type": "stream",
     "text": [
      "Games : 58.16263190564867\n",
      "Entertainment : 7.883302296710118\n",
      "Photo & Video : 4.9658597144630665\n",
      "Education : 3.662321539416512\n",
      "Social Networking : 3.2898820608317814\n",
      "Shopping : 2.60707635009311\n",
      "Utilities : 2.5139664804469275\n",
      "Sports : 2.1415270018621975\n",
      "Music : 2.0484171322160147\n",
      "Health & Fitness : 2.0173805090006205\n",
      "Productivity : 1.7380509000620732\n",
      "Lifestyle : 1.5828677839851024\n",
      "News : 1.3345747982619491\n",
      "Travel : 1.2414649286157666\n",
      "Finance : 1.1173184357541899\n",
      "Weather : 0.8690254500310366\n",
      "Food & Drink : 0.8069522036002483\n",
      "Reference : 0.5586592178770949\n",
      "Business : 0.5276225946617008\n",
      "Book : 0.4345127250155183\n",
      "Navigation : 0.186219739292365\n",
      "Medical : 0.186219739292365\n",
      "Catalogs : 0.12414649286157665\n"
     ]
    }
   ],
   "source": [
    "display_table(apple_free, -5)"
   ]
  },
  {
   "cell_type": "markdown",
   "id": "f7973e39",
   "metadata": {},
   "source": [
    "The frequency data shows that game apps hold the overwhelming majority of free, English apps on the Apple iOS store. This is followed by Entertainment, Photo & Video, Education, and Social Networking. The top genres show that the majority of the most common apps are focused around entertainment. Apps that have a more practical purpose such as Education, Shopping, and Utilities may hold less of a dominance in the store, but this does not mean that they have any less of a userbase.\n",
    "\n",
    "Just because the Apple store is dominated by apps focused around fun, does not mean that apps with practical uses have any less of a user base.\n",
    "\n",
    "Next we will analize the data in the Google App store."
   ]
  },
  {
   "cell_type": "code",
   "execution_count": 17,
   "id": "89cc4fa0",
   "metadata": {},
   "outputs": [
    {
     "name": "stdout",
     "output_type": "stream",
     "text": [
      "FAMILY : 18.898792733837304\n",
      "GAME : 9.725826469592688\n",
      "TOOLS : 8.462146000225657\n",
      "BUSINESS : 4.592124562789123\n",
      "LIFESTYLE : 3.9038700214374367\n",
      "PRODUCTIVITY : 3.8925871601038025\n",
      "FINANCE : 3.7007785174320205\n",
      "MEDICAL : 3.5315355974275078\n",
      "SPORTS : 3.396141261423897\n",
      "PERSONALIZATION : 3.317161232088458\n",
      "COMMUNICATION : 3.2381812027530184\n",
      "HEALTH_AND_FITNESS : 3.0802211440821394\n",
      "PHOTOGRAPHY : 2.944826808078529\n",
      "NEWS_AND_MAGAZINES : 2.798149610741284\n",
      "SOCIAL : 2.6627552747376737\n",
      "TRAVEL_AND_LOCAL : 2.335552296062281\n",
      "SHOPPING : 2.245289405393208\n",
      "BOOKS_AND_REFERENCE : 2.1437436533904997\n",
      "DATING : 1.8616721200496444\n",
      "VIDEO_PLAYERS : 1.7939749520478394\n",
      "MAPS_AND_NAVIGATION : 1.399074805370642\n",
      "FOOD_AND_DRINK : 1.241114746699763\n",
      "EDUCATION : 1.1621347173643235\n",
      "ENTERTAINMENT : 0.9590432133589079\n",
      "LIBRARIES_AND_DEMO : 0.9364774906916393\n",
      "AUTO_AND_VEHICLES : 0.9251946293580051\n",
      "HOUSE_AND_HOME : 0.8236488773552973\n",
      "WEATHER : 0.8010831546880289\n",
      "EVENTS : 0.7108202640189552\n",
      "PARENTING : 0.6544059573507841\n",
      "ART_AND_DESIGN : 0.6431230960171499\n",
      "COMICS : 0.6205573733498815\n",
      "BEAUTY : 0.5979916506826132\n"
     ]
    }
   ],
   "source": [
    "display_table(google_free, 1)"
   ]
  },
  {
   "cell_type": "markdown",
   "id": "e12b7b2f",
   "metadata": {},
   "source": [
    "The Google Play store does not have nearly the same amount of Games dominance as the Apple iOS store. The family genre holds the most dominance, but if you look into what the family genre is in the app store, it appears to be games suitible for families. It appears that on the Google Play store the most dominate genre is also games, but a larger majority of practical purpose apps are apperent on the in this app store.\n",
    "\n",
    "# User Count\n",
    "While these tables have helped us determine the apps that have the most prevelance in each store are apps made for fun, we now need to know which genres have the most users.\n",
    "\n",
    "# Apple User Count\n",
    "Below is the rating total for app genres on the Apple iOS store. We are using user ratings instead of user count because that data is not avaiable in this data set. User ratings should suffice as the users that have left a rating for the app should be more active than normal users and can give a more accurate perspective on the activity in an app genre."
   ]
  },
  {
   "cell_type": "code",
   "execution_count": 18,
   "id": "d2dd91dd",
   "metadata": {},
   "outputs": [
    {
     "name": "stdout",
     "output_type": "stream",
     "text": [
      "Social Networking : 71548.34905660378\n",
      "Photo & Video : 28441.54375\n",
      "Games : 22788.6696905016\n",
      "Music : 57326.530303030304\n",
      "Reference : 74942.11111111111\n",
      "Health & Fitness : 23298.015384615384\n",
      "Weather : 52279.892857142855\n",
      "Utilities : 18684.456790123455\n",
      "Travel : 28243.8\n",
      "Shopping : 26919.690476190477\n",
      "News : 21248.023255813954\n",
      "Navigation : 86090.33333333333\n",
      "Lifestyle : 16485.764705882353\n",
      "Entertainment : 14029.830708661417\n",
      "Food & Drink : 33333.92307692308\n",
      "Sports : 23008.898550724636\n",
      "Book : 39758.5\n",
      "Finance : 31467.944444444445\n",
      "Education : 7003.983050847458\n",
      "Productivity : 21028.410714285714\n",
      "Business : 7491.117647058823\n",
      "Catalogs : 4004.0\n",
      "Medical : 612.0\n"
     ]
    }
   ],
   "source": [
    "apple_genres = freq_table(apple_free, -5)\n",
    "for genre in apple_genres:\n",
    "    total = 0\n",
    "    len_genre = 0\n",
    "    for app in apple_free:\n",
    "        genre_app = app[-5]\n",
    "        if genre_app == genre:\n",
    "            user_rate = float(app[5])\n",
    "            total += user_rate\n",
    "            len_genre += 1\n",
    "    avg_n_ratings = total / len_genre\n",
    "    print(genre, ':', avg_n_ratings)\n",
    "            "
   ]
  },
  {
   "cell_type": "markdown",
   "id": "4c875cd3",
   "metadata": {},
   "source": [
    "Based on the above results, there is a large number of users in the social media and networking space. But this space would be a difficult one to gain users in since you would need to gain a large amount of users in a short amount of time to have a social media platform others see worth using. There are also plenty of users in the video and photo space, but these users are most likely accustomed to using a specific suite to do their photo and video work. This leaves games as the next most likely category for app development. A single player game that is fun to play can attract users, withought the game needing a large playerbase to make the experience enjoyable.\n",
    "\n",
    "Next we will analyze the Google Play store data.\n",
    "\n",
    "# Google Play Store User Count\n",
    "In the Google Play store data set, it includes an install count for each app. We will be using the install count which will give a good idea of how many users have downloaded an app within a specific genre.\n",
    "\n",
    "In the data set, the install count is not an exact number, it is: 100,000+ or 300,000+. So we do not know exactly home many installs the apps have, but it will be a close enough estimation to make an informed decision."
   ]
  },
  {
   "cell_type": "code",
   "execution_count": 19,
   "id": "ecb09f4e",
   "metadata": {},
   "outputs": [
    {
     "name": "stdout",
     "output_type": "stream",
     "text": [
      "ART_AND_DESIGN : 1986335.0877192982\n",
      "AUTO_AND_VEHICLES : 647317.8170731707\n",
      "BEAUTY : 513151.88679245283\n",
      "BOOKS_AND_REFERENCE : 8767811.894736841\n",
      "BUSINESS : 1712290.1474201474\n",
      "COMICS : 817657.2727272727\n",
      "COMMUNICATION : 38456119.167247385\n",
      "DATING : 854028.8303030303\n",
      "EDUCATION : 1833495.145631068\n",
      "ENTERTAINMENT : 11640705.88235294\n",
      "EVENTS : 253542.22222222222\n",
      "FINANCE : 1387692.475609756\n",
      "FOOD_AND_DRINK : 1924897.7363636363\n",
      "HEALTH_AND_FITNESS : 4188821.9853479853\n",
      "HOUSE_AND_HOME : 1331540.5616438356\n",
      "LIBRARIES_AND_DEMO : 638503.734939759\n",
      "LIFESTYLE : 1437816.2687861272\n",
      "GAME : 15588015.603248259\n",
      "FAMILY : 3697848.1731343283\n",
      "MEDICAL : 120550.61980830671\n",
      "SOCIAL : 23253652.127118643\n",
      "SHOPPING : 7036877.311557789\n",
      "PHOTOGRAPHY : 17840110.40229885\n",
      "SPORTS : 3638640.1428571427\n",
      "TRAVEL_AND_LOCAL : 13984077.710144928\n",
      "TOOLS : 10801391.298666667\n",
      "PERSONALIZATION : 5201482.6122448975\n",
      "PRODUCTIVITY : 16787331.344927534\n",
      "PARENTING : 542603.6206896552\n",
      "WEATHER : 5074486.197183099\n",
      "VIDEO_PLAYERS : 24727872.452830188\n",
      "NEWS_AND_MAGAZINES : 9549178.467741935\n",
      "MAPS_AND_NAVIGATION : 4056941.7741935486\n"
     ]
    }
   ],
   "source": [
    "google_genres = freq_table(google_free, 1)\n",
    "\n",
    "for genre in google_genres:\n",
    "    #print(genre)\n",
    "    total = 0\n",
    "    len_genre = 0\n",
    "    for app in google_free:\n",
    "        genre_app = app[1]\n",
    "        if genre_app == genre:\n",
    "            installs_tot = app[5]\n",
    "            installs_tot = installs_tot.strip('+')\n",
    "            installs_tot = installs_tot.replace(',', '')\n",
    "            total +=  float(installs_tot)\n",
    "            len_genre += 1\n",
    "            \n",
    "    avg_installs = total / len_genre\n",
    "    print(genre, ':', avg_installs)"
   ]
  },
  {
   "cell_type": "markdown",
   "id": "5598c3b0",
   "metadata": {},
   "source": [
    "In this table, there is a large number of users who have downloaded apps that are mostly practical apps. Looking at the game genre, there are a large amount of user that have downloaded game related apps. Considering the family genre is also mainly consisting of games that are family appropriate, there is a large userbase for games on the Google Play store.\n",
    "\n",
    "# Conclusion\n",
    "In both the Google Play Store and the Apple iOS store, there is evidence to show that a large amount of users are interested in game type apps. With the nature of games, a simple game that does not rely on a large playerbase can gain attraction quickly. If there is marketing behind a game, a multiplayer game has the potential to attract a userbase that will promote the game themsleves, leading to the game to grow more over time. \n",
    "\n",
    "With this in mind, we should put development effort towards the game genre. This has the greatest potential to create returns on investment compared to the effort that would be needed to create a larger user base for something such as a social media platform. If the game app is profitable on the Google Play store, we will carry it over to the Apple iOS store."
   ]
  }
 ],
 "metadata": {
  "kernelspec": {
   "display_name": "Python 3",
   "language": "python",
   "name": "python3"
  },
  "language_info": {
   "codemirror_mode": {
    "name": "ipython",
    "version": 3
   },
   "file_extension": ".py",
   "mimetype": "text/x-python",
   "name": "python",
   "nbconvert_exporter": "python",
   "pygments_lexer": "ipython3",
   "version": "3.8.8"
  }
 },
 "nbformat": 4,
 "nbformat_minor": 5
}
